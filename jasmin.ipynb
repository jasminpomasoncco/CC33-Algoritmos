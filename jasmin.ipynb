{
  "nbformat": 4,
  "nbformat_minor": 0,
  "metadata": {
    "colab": {
      "name": "jasmin.ipynb",
      "provenance": [],
      "authorship_tag": "ABX9TyOVKJ+yQDK4EFzJjr6i6osU",
      "include_colab_link": true
    },
    "kernelspec": {
      "name": "python3",
      "display_name": "Python 3"
    },
    "language_info": {
      "name": "python"
    }
  },
  "cells": [
    {
      "cell_type": "markdown",
      "metadata": {
        "id": "view-in-github",
        "colab_type": "text"
      },
      "source": [
        "<a href=\"https://colab.research.google.com/github/jasminpomasoncco/CC33-Algoritmos/blob/main/jasmin.ipynb\" target=\"_parent\"><img src=\"https://colab.research.google.com/assets/colab-badge.svg\" alt=\"Open In Colab\"/></a>"
      ]
    },
    {
      "cell_type": "code",
      "metadata": {
        "id": "Q7od0cSQ2CEr",
        "colab": {
          "base_uri": "https://localhost:8080/"
        },
        "outputId": "a26e4dd8-a001-4e12-cc4f-2224d52fa455"
      },
      "source": [
        "%%writefile programa1.cpp\n",
        "#include <iostream>\n",
        "using namespace std;\n",
        "int main(){\n",
        "    \n",
        "\n",
        "\n",
        "\n",
        "cout<<\"Intro a google Colab\";\n",
        "\n",
        "  return 0;\n",
        "}"
      ],
      "execution_count": null,
      "outputs": [
        {
          "output_type": "stream",
          "text": [
            "Overwriting programa1.cpp\n"
          ],
          "name": "stdout"
        }
      ]
    },
    {
      "cell_type": "code",
      "metadata": {
        "colab": {
          "base_uri": "https://localhost:8080/"
        },
        "id": "s7JGSAZsNlhb",
        "outputId": "ffc8c0e6-40ca-4d21-dc0a-0c6f5567ccd9"
      },
      "source": [
        "!g++ programa1.cpp && ./a.out"
      ],
      "execution_count": null,
      "outputs": [
        {
          "output_type": "stream",
          "text": [
            "Intro a google Colab"
          ],
          "name": "stdout"
        }
      ]
    },
    {
      "cell_type": "code",
      "metadata": {
        "colab": {
          "base_uri": "https://localhost:8080/"
        },
        "id": "xkVd-NiqOtW9",
        "outputId": "0bb7abec-1162-4771-e4ba-105248ae3266"
      },
      "source": [
        "\n"
      ],
      "execution_count": null,
      "outputs": [
        {
          "output_type": "stream",
          "text": [
            "Intro a Google Colab"
          ],
          "name": "stdout"
        }
      ]
    },
    {
      "cell_type": "code",
      "metadata": {
        "id": "ZYKXXcQA_JRA"
      },
      "source": [
        "%%writefile SinTemplates.cpp\n",
        "\n",
        "\n",
        "\n",
        "#include<iostream>\n",
        "\n",
        "using std::cout;\n",
        "\n",
        "using std::endl;\n",
        "\n",
        "typedef unsigned long long ull;\n",
        "\n",
        "class BigNumber{\n",
        "\n",
        "    ull n1;\n",
        "\n",
        "    ull n2;\n",
        "    public:\n",
        "\n",
        "      BigNumber(ull n1=0,ull n2=0):n1(n1),n2(n2){ }\n",
        "\n",
        "      void print(){cout<<n1<<\" \"<<n2<<endl;}\n",
        "\n",
        "};\n",
        "\n",
        "class BigNumberF{\n",
        "\n",
        "    float n1;\n",
        "\n",
        "    float n2;\n",
        "\n",
        "    public:\n",
        "\n",
        "      BigNumberF(float n1=0,float n2=0):n1(n1),n2(n2){ }\n",
        "\n",
        "      void print(){cout<<n1<<\" \"<<n2<<endl;}\n",
        "\n",
        "};\n",
        "\n",
        "int main(){\n",
        "\n",
        "    BigNumber n1;\n",
        "\n",
        "    BigNumber n2(1);\n",
        "\n",
        "    BigNumber n3(1,2);\n",
        "\n",
        "    n1.print();\n",
        "\n",
        "    n2.print();\n",
        "\n",
        "    n3.print();\n",
        "\n",
        "    return 0;\n",
        "\n",
        "}"
      ],
      "execution_count": null,
      "outputs": []
    },
    {
      "cell_type": "code",
      "metadata": {
        "id": "cni5iCYAAtSL"
      },
      "source": [
        "%%writefile ConTemplates.cpp\n",
        "\n",
        "#include<iostream>\n",
        "\n",
        "using std::cout;\n",
        "\n",
        "using std::endl;\n",
        "\n",
        "typedef unsigned long long ull;\n",
        "\n",
        "template <class Tipo>\n",
        "\n",
        "class BigNumber{\n",
        "\n",
        "    Tipo n1;\n",
        "\n",
        "    Tipo n2;\n",
        "\n",
        "    public:\n",
        "\n",
        "      BigNumber(Tipo n1,Tipo n2):n1(n1),n2(n2){ }\n",
        "\n",
        "      void print(){cout<<n1<<\" \"<<n2<<endl;}\n",
        "\n",
        "};\n",
        "\n",
        "\n",
        "\n",
        "int main(){\n",
        "\n",
        "    BigNumber<short> n1(1,1);\n",
        "\n",
        "    BigNumber<int> n2(2,2);\n",
        "\n",
        "    BigNumber<long> n3(3,3);\n",
        "\n",
        "    BigNumber<double> n4(4.32,4.78);\n",
        "\n",
        "    BigNumber<float> n5(5.2f,5.9f);\n",
        "\n",
        "    BigNumber<ull> n6(6,6);    \n",
        "\n",
        "    n1.print();\n",
        "\n",
        "    n4.print();\n",
        "\n",
        "    n5.print();\n",
        "\n",
        "    return 0;\n",
        "\n",
        "}"
      ],
      "execution_count": null,
      "outputs": []
    },
    {
      "cell_type": "markdown",
      "metadata": {
        "id": "4USo2lw19qxT"
      },
      "source": [
        "creando templates\n"
      ]
    },
    {
      "cell_type": "code",
      "metadata": {
        "colab": {
          "base_uri": "https://localhost:8080/"
        },
        "id": "1SpQ7nVz9iZH",
        "outputId": "4bfb06b2-31f8-4a98-88c9-0f34e6233b03"
      },
      "source": [
        "%%writefile templates.cpp\n",
        "\n",
        "typedef unsigned long long ull;\n",
        "\n",
        "class BigNumber{\n",
        "\n",
        "    ull n1;\n",
        "\n",
        "    ull n2;\n",
        "\n",
        "    public:\n",
        "\n",
        "      BigNumber(ull n1=0,ull n2=0):n1(n1),n2(n2){ }\n",
        "\n",
        "};"
      ],
      "execution_count": null,
      "outputs": [
        {
          "output_type": "stream",
          "text": [
            "Writing templates.cpp\n"
          ],
          "name": "stdout"
        }
      ]
    },
    {
      "cell_type": "code",
      "metadata": {
        "colab": {
          "base_uri": "https://localhost:8080/"
        },
        "id": "Mdg11rfm-Kk9",
        "outputId": "63889ad0-27cb-4666-a3a4-b6317a4a1f6b"
      },
      "source": [
        ""
      ],
      "execution_count": null,
      "outputs": [
        {
          "output_type": "stream",
          "text": [
            "\u001b[01m\u001b[Kg++:\u001b[m\u001b[K \u001b[01;31m\u001b[Kerror: \u001b[m\u001b[Kprograma1.cpp: No such file or directory\n",
            "\u001b[01m\u001b[Kg++:\u001b[m\u001b[K \u001b[01;31m\u001b[Kfatal error: \u001b[m\u001b[Kno input files\n",
            "compilation terminated.\n"
          ],
          "name": "stdout"
        }
      ]
    },
    {
      "cell_type": "code",
      "metadata": {
        "id": "z_iMrT0A-XtU"
      },
      "source": [
        "!!g++ -std=c++11 ConTemplates.cpp -o upc"
      ],
      "execution_count": null,
      "outputs": []
    },
    {
      "cell_type": "code",
      "metadata": {
        "id": "wCcIQTRl8rKa"
      },
      "source": [
        "from google.colab import drive\n",
        "drive.mount('/content/drive')\n",
        "\n"
      ],
      "execution_count": null,
      "outputs": []
    },
    {
      "cell_type": "code",
      "metadata": {
        "id": "mbiXmhBuQr1t",
        "colab": {
          "base_uri": "https://localhost:8080/"
        },
        "outputId": "e65f5e17-3fa0-4e3a-b82f-5fd111e71de5"
      },
      "source": [
        "%%writefile archivos2.cpp\n",
        "\n",
        "#include <iostream>\n",
        "#include <fstream>\n",
        "using namespace std;\n",
        "\n",
        "void F_Iostream(){\n",
        "    short nro;\n",
        "    cout<<\"Nro\";\n",
        "    cin>>nro;\n",
        "\n",
        "}\n",
        "\n",
        "void F_Fstream1(){\n",
        "\n",
        "    string cadena;\n",
        "    fstream fileE(\"demo.txt\", ios::out);//out->opera como escritura\n",
        "    fileE<<\"Upcino\";// escritura    \n",
        "    fileE.close();\n",
        "\n",
        "    fstream fileL(\"demo.txt\", ios::in);//out->opera como Lectura     \n",
        "    fileL>>cadena;// lectura\n",
        "    cout<<cadena;\n",
        "    fileL.close();\n",
        "\n",
        "}\n",
        "\n",
        "void F_Fstream2(){\n",
        "    string cadena;\n",
        "    ofstream fileE(\"demo.txt\");\n",
        "    fileE<<\"Upcino\";// escritura    \n",
        "    fileE.close();\n",
        "    ifstream fileL(\"demo.txt\");\n",
        "    fileL>>cadena;// lectura\n",
        "    cout<<cadena;\n",
        "    fileL.close();\n",
        "\n",
        "}\n",
        "\n",
        "void escritura(){\n",
        "    ofstream archivo(\"texto1.txt\");    \n",
        "    for(size_t i=0;i<100;++i)\n",
        "      archivo<<i<<endl;\n",
        "    archivo.close();\n",
        "\n",
        "}\n",
        "/*\n",
        "cout<<\"Ingresa mensaje\";\n",
        "cin>>mensaje\n",
        "cout<<\"Ingresa mensaje\";\n",
        "getline(cin,mensaje)\n",
        "*/\n",
        "\n",
        "void lectura(){\n",
        "    ifstream archivo(\"texto1.txt\");\n",
        "    short nro;\n",
        "    string tmp;\n",
        "    short c=0;\n",
        "    while(getline(archivo,tmp)){\n",
        "        cout<<tmp<<\" \";\n",
        "      ++c;\n",
        "    }\n",
        "\n",
        "    cout<<\"La cantidad de registros leidos son:\"<<c<<endl;\n",
        "    //while(archivo>>nro)\n",
        "      //cout<<nro<<\" \";\n",
        "\n",
        "}\n",
        "\n",
        "int main(){\n",
        "   // escritura();\n",
        "    lectura();\n",
        "    \n",
        "    return 0;\n",
        "\n",
        "}"
      ],
      "execution_count": null,
      "outputs": [
        {
          "output_type": "stream",
          "text": [
            "Writing archivos2.cpp\n"
          ],
          "name": "stdout"
        }
      ]
    },
    {
      "cell_type": "code",
      "metadata": {
        "colab": {
          "base_uri": "https://localhost:8080/"
        },
        "id": "n_X4Kc59Qv0a",
        "outputId": "8f1d92e1-31aa-42a8-9260-6b8217c26050"
      },
      "source": [
        "!g++ archivos2.cpp && ./a.out"
      ],
      "execution_count": null,
      "outputs": [
        {
          "output_type": "stream",
          "text": [
            "La cantidad de registros leidos son:0\n"
          ],
          "name": "stdout"
        }
      ]
    },
    {
      "cell_type": "code",
      "metadata": {
        "id": "6PrSg2PpVtih"
      },
      "source": [
        "%%writefile archivos.cpp\n",
        "\n",
        "#include <iostream>\n",
        "#include <fstream>\n",
        "#include <sstream>\n",
        "\n",
        "using namespace std;\n",
        "\n",
        "void F_Iostream(){\n",
        "    short nro;\n",
        "    cout<<\"Nro\";\n",
        "    cin>>nro;\n",
        "\n",
        "}\n",
        "\n",
        "void F_Fstream1(){\n",
        "\n",
        "    string cadena;\n",
        "    fstream fileE(\"demo.txt\", ios::out);//out->opera como escritura\n",
        "    fileE<<\"Upcino\";// escritura    \n",
        "    fileE.close();\n",
        "    fstream fileL(\"demo.txt\", ios::in);//out->opera como Lectura     \n",
        "    fileL>>cadena;// lectura\n",
        "    cout<<cadena;\n",
        "    fileL.close();\n",
        "\n",
        "}\n",
        "\n",
        "void F_Fstream2(){\n",
        "\n",
        "    string cadena;\n",
        "    ofstream fileE(\"demo.txt\");\n",
        "    fileE<<\"Upcino\";// escritura    \n",
        "    fileE.close();\n",
        "    ifstream fileL(\"demo.txt\");\n",
        "    fileL>>cadena;// lectura\n",
        "    cout<<cadena;\n",
        "    fileL.close();\n",
        "\n",
        "}\n",
        "\n",
        "void escritura(){\n",
        "\n",
        "    ofstream archivo(\"texto1.txt\");    \n",
        "    for(size_t i=0;i<100;++i)\n",
        "      archivo<<i<<endl;\n",
        "    archivo.close();\n",
        "}\n",
        "\n",
        "/*\n",
        "cout<<\"Ingresa mensaje\";\n",
        "cin>>mensaje\n",
        "cout<<\"Ingresa mensaje\";\n",
        "getline(cin,mensaje)\n",
        "\n",
        "*/\n",
        "\n",
        "void lectura(){\n",
        "\n",
        "    ifstream archivo(\"texto1.txt\");\n",
        "    short nro;\n",
        "    string tmp;\n",
        "    short c=0;\n",
        "    while(getline(archivo,tmp)){\n",
        "        cout<<tmp<<\" \";\n",
        "        ++c;\n",
        "\n",
        "    }\n",
        "\n",
        "    cout<<\"La cantidad de registros leidos son:\"<<c<<endl;\n",
        "    //while(archivo>>nro)\n",
        "      //cout<<nro<<\" \";\n",
        "\n",
        "}\n",
        "\n",
        "struct Persona{\n",
        "\n",
        "    string nombre, apellido, correo;\n",
        "    short talla;\n",
        "};\n",
        "\n",
        "void lecturaCSV1(){\n",
        "\n",
        "    string nombre, apellido, correo,tmp,aux;\n",
        "    short talla;\n",
        "    ifstream archivo(\"texto2.txt\");\n",
        "\n",
        "    while(getline(archivo,tmp)){\n",
        "\n",
        "        stringstream archMem(tmp);\n",
        "        getline(archMem,nombre,',');\n",
        "        getline(archMem,apellido,',');\n",
        "        getline(archMem,correo,',');\n",
        "        getline(archMem,aux);\n",
        "        talla=stoi(aux);//string to integer\n",
        "        cout<<correo<<\" \"<<nombre<<\" \"<<apellido<<\" \"<<talla<<endl;    \n",
        "    }\n",
        "}\n",
        "\n",
        "void lecturaCSV2(){//forma rápida\n",
        "    string nombre, apellido, correo,tmp,aux;\n",
        "    short talla;\n",
        "    ifstream archivo(\"texto2.txt\");\n",
        "    while(archivo>>nombre>>aux>>apellido>>aux>>correo>>aux>>talla){        \n",
        "        cout<<correo<<\" \"<<nombre<<\" \"<<apellido<<\" \"<<talla<<endl;    \n",
        "    }\n",
        "}\n",
        "\n",
        "int main(){\n",
        "\n",
        "   // escritura();\n",
        "    lecturaCSV2();\n",
        "    return 0;\n",
        "\n",
        "}"
      ],
      "execution_count": null,
      "outputs": []
    },
    {
      "cell_type": "code",
      "metadata": {
        "id": "fowLG40VQpuu"
      },
      "source": [
        "!g++ archivos.cpp && ./a.out"
      ],
      "execution_count": null,
      "outputs": []
    },
    {
      "cell_type": "code",
      "metadata": {
        "colab": {
          "base_uri": "https://localhost:8080/"
        },
        "id": "Tfm5yQcgQJJJ",
        "outputId": "92df6fb7-08ab-4264-d41e-c3669af8e248"
      },
      "source": [
        "%%writefile miniproyecto.cpp\n",
        "using namespace std;\n",
        "#include <iostream>\n",
        "#include <string>\n",
        "\n",
        "class Enemigo{\n",
        "    string nombre;\n",
        "    public:\n",
        "    Enemigo(){}\n",
        "};\n",
        "class Bala{\n",
        "    string material;\n",
        "    public:\n",
        "    Bala(){material=\"plomo\";}\n",
        "    string getMaterial(){return material;}\n",
        "};\n",
        "class Mapa{\n",
        "    short idx;\n",
        "    public:\n",
        "    Mapa(){}\n",
        "};\n",
        "struct Celular{\n",
        "    string marca;\n",
        "    Celular(){marca=\"Samsung\";}\n",
        "};\n",
        "template <class Tipo>\n",
        "class Arreglo{\n",
        "    Tipo* arr;\n",
        "    int idx;\n",
        "    public:\n",
        "    Arreglo(){\n",
        "        arr=new Tipo[100];\n",
        "        idx=0;\n",
        "    }\n",
        "    void insertar(Tipo o){\n",
        "        if(idx<100)\n",
        "        arr[idx++]=o;\n",
        "    }\n",
        "    Tipo getXPos(int p){\n",
        "        return arr[p];\n",
        "    }\n",
        "\n",
        "};\n",
        "int main(){\n",
        "    Arreglo<Enemigo> enemigos;\n",
        "    Arreglo<Bala> pistola;\n",
        "    Arreglo<Mapa> atlas;\n",
        "    Arreglo<Celular> celulares;\n",
        "    Arreglo<int> enteros;\n",
        "    pistola.insertar(Bala());\n",
        "    celulares.insertar(Celular());\n",
        "    for(size_t i=0;i<10;++i)\n",
        "      enteros.insertar(i);\n",
        "///////////////////mostrar\n",
        "  cout<<pistola.getXPos(0).getMaterial()<<endl;\n",
        "  cout<<celulares.getXPos(0).marca<<endl;\n",
        "    for(size_t i=0;i<10;++i)\n",
        "      cout<<enteros.getXPos(i)<<\" \";\n",
        "return 0;\n",
        "}"
      ],
      "execution_count": null,
      "outputs": [
        {
          "output_type": "stream",
          "text": [
            "Writing miniproyecto.cpp\n"
          ],
          "name": "stdout"
        }
      ]
    },
    {
      "cell_type": "code",
      "metadata": {
        "colab": {
          "base_uri": "https://localhost:8080/"
        },
        "id": "ufi2KizyQN7J",
        "outputId": "004260fb-8c22-48a1-e6d0-849cff2361bd"
      },
      "source": [
        "!g++ miniproyecto.cpp && ./a.out"
      ],
      "execution_count": null,
      "outputs": [
        {
          "output_type": "stream",
          "text": [
            "plomo\n",
            "Samsung\n",
            "0 1 2 3 4 5 6 7 8 9 "
          ],
          "name": "stdout"
        }
      ]
    },
    {
      "cell_type": "code",
      "metadata": {
        "id": "J_lmodgfaZjm"
      },
      "source": [
        "#pragma once\n",
        "#include \"Personaje.h\"\n",
        "#include \"Bala.h\"\n",
        "\n",
        "using namespace std;\n",
        "\n",
        "enum Direccion { Arriba, Abajo, Izquierda, Derecha, Ninguno };\n",
        "\n",
        "class Lider : public Personaje {\n",
        "public:\n",
        "\tLider(int anchof, int altof);\n",
        "\t~Lider();\n",
        "\n",
        "\tvoid mover_lider(int anchof, int altof);\n",
        "\tvoid dibujar_score(Graphics^ lienzo);\n",
        "\tvoid set_score(int s);\n",
        "\n",
        "\tvoid CrearBala(Direccion direccion);\n",
        "\tvoid EliminarBala(int p);\n",
        "\tvoid MostrarBalas_S(Graphics^ g, Bitmap^ imgbala);\n",
        "\tvoid MostrarBalas_H(Graphics^ g, Bitmap^ imgbala1);\n",
        "\tvoid MoverBalas();\n",
        "\n",
        "\tint get_score();\n",
        "\n",
        "\tBala* get_Bala(int i);\n",
        "\tint get_CantBalas();\n",
        "\tvoid set_direccion(Direccion direccion);\n",
        "\tDireccion get_direccion();\n",
        "\tRectangle get_secta();\n",
        "\n",
        "private:\n",
        "\tint puntos;\n",
        "\n",
        "\tint cantidad;\n",
        "\tBala** balas;\n",
        "\tDireccion direccion;\n",
        "};\n",
        "\n",
        "//(int x, int y,int limimg, int ancho, int alto, int velo)\n",
        "\n",
        "Lider::Lider(int anchof, int altof) :\n",
        "\tPersonaje(50, 82, 3, 50, 50, 1)\n",
        "{\n",
        "\tdx = dy = 10;\n",
        "\tpuntos = 0;\n",
        "\tcantidad = 0;\n",
        "\tdireccion = Direccion::Ninguno;\n",
        "}\n",
        "\n",
        "Lider::~Lider() {\n",
        "}\n",
        "\n",
        "void Lider::mover_lider(int anchof, int altof) {\n",
        "\n",
        "\tif (x + dx<0 || x + dx + ancho>anchof) { //6+( 10)\n",
        "\t\tdx = 0;//1\n",
        "\n",
        "\t}\n",
        "\tif (y + dy < 0 || y + dy + alto>altof)//10\n",
        "\t{\n",
        "\t\tdy = 0;//1\n",
        "\n",
        "\t}\n",
        "\tx += dx; y += dy;//4\n",
        "}\n",
        "//16\n",
        "\n",
        "void Lider::dibujar_score(Graphics^ lienzo) {\n",
        "\tlienzo->DrawString(Convert::ToString(puntos), gcnew System::Drawing::Font(\"Arial\", 18), Brushes::White, 115, 13);\n",
        "}\n",
        "\n",
        "void Lider::set_score(int s) {\n",
        "\tpuntos = s;\n",
        "}\n",
        "\n",
        "void Lider::CrearBala(Direccion direccion) {\n",
        "\tBala** aux = new Bala * [cantidad + 1];\n",
        "\n",
        "\tfor (int i = 0; i < cantidad; i++)\n",
        "\t\taux[i] = balas[i];\n",
        "\n",
        "\tint dx = 0, dy = 0;\n",
        "\tswitch (direccion) {\n",
        "\tcase Direccion::Arriba:  dy = -10; break;\n",
        "\tcase Direccion::Abajo:   dy = 10; break;\n",
        "\tcase Direccion::Izquierda:  dx = -10; break;\n",
        "\tcase Direccion::Derecha:    dx = 10; break;\n",
        "\t}\n",
        "\n",
        "\taux[cantidad] = new Bala(x + ancho / 2, y + alto / 2, dx, dy);\n",
        "\n",
        "\tcantidad++;\n",
        "\tbalas = aux;\n",
        "}\n",
        "\n",
        "void Lider::EliminarBala(int p) {\n",
        "\tBala** aux = new Bala * [cantidad - 1];\n",
        "\n",
        "\tdelete balas[p];\n",
        "\n",
        "\tfor (int i = 0; i < p; i++)\n",
        "\t\taux[i] = balas[i];\n",
        "\n",
        "\tfor (int i = p; i < cantidad - 1; i++)\n",
        "\t\taux[i] = balas[i + 1];\n",
        "\n",
        "\tcantidad--;\n",
        "\tbalas = aux;\n",
        "}\n",
        "\n",
        "void Lider::MostrarBalas_S(Graphics^ g, Bitmap^ imgbala) {\n",
        "\tfor (int i = 0; i < cantidad; i++)\n",
        "\t\tbalas[i]->Mostrar_S(g, imgbala);\n",
        "}\n",
        "\n",
        "void Lider::MostrarBalas_H(Graphics^ g, Bitmap^ imgbala1) {\n",
        "\tfor (int i = 0; i < cantidad; i++)\n",
        "\t\tbalas[i]->Mostrar_H(g, imgbala1);\n",
        "}\n",
        "\n",
        "void Lider::MoverBalas() {\n",
        "\tfor (int i = 0; i < cantidad; i++)\n",
        "\t\tbalas[i]->Mover();\n",
        "}\n",
        "\n",
        "int Lider::get_score() {\n",
        "\treturn puntos;\n",
        "}\n",
        "\n",
        "int Lider::get_CantBalas() {\n",
        "\treturn cantidad;\n",
        "}\n",
        "\n",
        "void Lider::set_direccion(Direccion direccion) {\n",
        "\tthis->direccion = direccion;\n",
        "}\n",
        "\n",
        "Direccion Lider::get_direccion() {\n",
        "\treturn direccion;\n",
        "}\n",
        "\n",
        "Bala* Lider::get_Bala(int i) {\n",
        "\treturn balas[i];\n",
        "}\n",
        "\n",
        "Rectangle Lider::get_secta() {\n",
        "\treturn Rectangle(x, y, ancho, alto);\n",
        "}\n"
      ],
      "execution_count": null,
      "outputs": []
    },
    {
      "cell_type": "code",
      "metadata": {
        "id": "4s6oeDrAf7Vv"
      },
      "source": [
        "#pragma once\n",
        "#include \"Personaje.h\"\n",
        "#include <vector>\n",
        "class Bala {\n",
        "private:\n",
        "\tint x, y;\n",
        "\tint dx, dy;\n",
        "\tint ancho, alto;\n",
        "public:\n",
        "\tBala(int x, int y, int dx, int dy);\n",
        "\t~Bala();\n",
        "\n",
        "\tvoid Mover();\n",
        "\tvoid Mostrar_S(Graphics^ g, Bitmap^ imgbala);\n",
        "\tvoid Mostrar_H(Graphics^ g, Bitmap^ imgbala1);\n",
        "\n",
        "\tint get_x();\n",
        "\tint get_y();\n",
        "\tint get_ancho();\n",
        "\tint get_alto();\n",
        "\tRectangle get_recta();\n",
        "};\n",
        "\n",
        "Bala::Bala(int x, int y, int dx, int dy) {\n",
        "\tthis->x = x;\n",
        "\tthis->y = y;\n",
        "\n",
        "\tthis->dx = dx;\n",
        "\tthis->dy = dy;\n",
        "\n",
        "\tancho = 30;//30\n",
        "\talto = 20;//20\n",
        "}\n",
        "\n",
        "Bala::~Bala() {}\n",
        "\n",
        "void Bala::Mover() {\n",
        "\tx += dx;\n",
        "\ty += dy;\n",
        "}\n",
        "\n",
        "void Bala::Mostrar_S(Graphics^ g, Bitmap^ imgbala) {\n",
        "\tg->DrawImage(imgbala, x, y, ancho, alto);\n",
        "}\n",
        "\n",
        "void Bala::Mostrar_H(Graphics^ g, Bitmap^ imgbala1) {\n",
        "\tg->DrawImage(imgbala1, x, y, ancho, alto);\n",
        "}\n",
        "\n",
        "int Bala::get_x() {\n",
        "\treturn x;\n",
        "}\n",
        "int Bala::get_y() {\n",
        "\treturn y;\n",
        "}\n",
        "int Bala::get_ancho() {\n",
        "\treturn ancho;\n",
        "}\n",
        "int Bala::get_alto() {\n",
        "\treturn alto;\n",
        "}\n",
        "\n",
        "Rectangle Bala::get_recta() {\n",
        "\treturn Rectangle(x, y, ancho, alto);\n",
        "}"
      ],
      "execution_count": null,
      "outputs": []
    },
    {
      "cell_type": "code",
      "metadata": {
        "id": "ZEAYU2GFFrbP"
      },
      "source": [
        "#pragma once\n",
        "#include<iostream>\n",
        "using namespace System;\n",
        "using namespace System::Drawing;\n",
        "\n",
        "class Personaje\n",
        "{\n",
        "public:\n",
        "\n",
        "\tPersonaje(int x, int y,\n",
        "\t\tint limimg, int ancho, int alto, int velo);\n",
        "\n",
        "\t~Personaje();\n",
        "\tvoid dibujar(Graphics^ g, Bitmap^ img);\n",
        "\tvoid rip(Graphics^ g, Bitmap^ img, int x, int y, int ancho, int alto);\n",
        "\n",
        "\tvirtual void mover(int anchof, int altof);\n",
        "\n",
        "\tbool colision(Rectangle rec);\n",
        "\n",
        "\tRectangle getrec();\n",
        "\tRectangle getrecfuturo();\n",
        "\tvirtual void movimiento_invalido(int a) {}\n",
        "\tvoid setx(int x);\n",
        "\tvoid sety(int y);\n",
        "\tvoid setdx(int dx);\n",
        "\tvoid setdy(int dy);\n",
        "\tint getx();\n",
        "\tint gety();\n",
        "\tint getdx();\n",
        "\tint getdy();\n",
        "\n",
        "protected:\n",
        "\n",
        "\tint x, y, dx, dy, idx;\n",
        "\tint ancho, alto;\n",
        "\tint limimg, idy;\n",
        "\tint aceleracion, velocidad, accion;\n",
        "};\n",
        "\n",
        "Personaje::Personaje(int x, int y,\n",
        "\tint limimg, int ancho, int alto, int velocidad)\n",
        "{\n",
        "\tthis->x = x;\n",
        "\tthis->y = y;\n",
        "\tthis->dx = dx;\n",
        "\tthis->dy = dy;\n",
        "\tthis->ancho = ancho;\n",
        "\tthis->alto = alto;\n",
        "\tthis->limimg = limimg;\n",
        "\tdx = 0; dy = 0;\n",
        "\tidx = 0; idy = 0;\n",
        "\taceleracion = 0;\n",
        "\tthis->velocidad = velocidad;\n",
        "\taccion = 0;\n",
        "}\n",
        "\n",
        "Personaje::~Personaje()\n",
        "{\n",
        "}\n",
        "\n",
        "void Personaje::mover(int anchof, int altof) {\n",
        "\n",
        "\n",
        "\tif (x + dx<0 || x + dx + ancho>anchof)\n",
        "\t{\n",
        "\t\tmovimiento_invalido(0);\n",
        "\n",
        "\t}\n",
        "\tif (y + dy < 0 || y + dy + alto>altof)\n",
        "\t{\n",
        "\t\tmovimiento_invalido(1);\n",
        "\t}\n",
        "\n",
        "\tx += dx; y += dy;\n",
        "\n",
        "}\n",
        "\n",
        "void Personaje::dibujar(Graphics^ g, Bitmap^ img) {\n",
        "\n",
        "\tif (dx > 0)idy = 2; else\n",
        "\t\tif (dx < 0)idy = 1; else\n",
        "\t\t\tif (dy > 0)idy = 0; else\n",
        "\t\t\t\tif (dy < 0)idy = 3; else\n",
        "\t\t\t\t\tidx = 1;\n",
        "\n",
        "\tRectangle seccionshow = Rectangle(img->Width / limimg * idx, img->Height / 4 * idy,\n",
        "\t\timg->Width / limimg, img->Height / 4);\n",
        "\n",
        "\tRectangle zoom = Rectangle(x, y, ancho, alto);\n",
        "\n",
        "\tg->DrawImage(img, zoom, seccionshow, GraphicsUnit::Pixel);\n",
        "\n",
        "\tidx = (idx + 1) % limimg;\n",
        "\n",
        "\n",
        "}\n",
        "\n",
        "void Personaje::rip(Graphics^ g, Bitmap^ imgene, int x, int y, int ancho, int alto) {\n",
        "\n",
        "\tRectangle seccionshow = Rectangle(x, y, ancho, alto);\n",
        "\tRectangle rip = Rectangle(x, y, ancho, alto);\n",
        "\tg->DrawImage(imgene, rip, seccionshow, GraphicsUnit::Pixel);\n",
        "}\n",
        "\n",
        "bool Personaje::colision(Rectangle rec) {\n",
        "\treturn getrec().IntersectsWith(rec);\n",
        "}\n",
        "\n",
        "Rectangle Personaje::getrec()\n",
        "{\n",
        "\treturn Rectangle(x, y, ancho, alto);\n",
        "}\n",
        "\n",
        "Rectangle Personaje::getrecfuturo()\n",
        "{\n",
        "\treturn Rectangle(x + dx, y + dy, ancho, alto);\n",
        "}\n",
        "\n",
        "void Personaje::setx(int x) {\n",
        "\tthis->x = x;\n",
        "}\n",
        "\n",
        "void Personaje::sety(int y) {\n",
        "\tthis->y = y;\n",
        "}\n",
        "\n",
        "void Personaje::setdx(int dx) {\n",
        "\tthis->dx = dx;\n",
        "}\n",
        "\n",
        "void Personaje::setdy(int dy) {\n",
        "\tthis->dy = dy;\n",
        "}\n",
        "\n",
        "int Personaje::getx() {\n",
        "\treturn x;\n",
        "}\n",
        "\n",
        "int Personaje::gety() {\n",
        "\treturn y;\n",
        "}\n",
        "int Personaje::getdx() {\n",
        "\treturn dx;\n",
        "}\n",
        "\n",
        "int Personaje::getdy() {\n",
        "\treturn dy;\n",
        "}"
      ],
      "execution_count": null,
      "outputs": []
    },
    {
      "cell_type": "code",
      "metadata": {
        "id": "G1f3oSmyn-x5"
      },
      "source": [
        "%%writefile juego1.cpp\n",
        "#include <iostream>\n",
        "using std::cout;\n",
        "using std::endl;\n",
        "\n",
        "template <class Tipo>\n",
        "class Personaje{\n",
        "    \n",
        "    Tipo x;\n",
        "    Tipo ix;\n",
        "    public:\n",
        "    Personaje(Tipo x=0 , Tipo y=0,\n",
        "\t\tTipo limimg=0, Tipo ancho=0, Tipo alto=0, Tipo velo=0): x(x) , y(y), limimg(limimg), ancho(ancho),\n",
        "    alto(alto) velo(velo)\n",
        "    { \n",
        "    }\n",
        "   \n",
        "   \n",
        "}"
      ],
      "execution_count": null,
      "outputs": []
    },
    {
      "cell_type": "code",
      "metadata": {
        "id": "b-iEUBYw1BtE"
      },
      "source": [
        "!g++ juego1.cpp && ./a.out"
      ],
      "execution_count": null,
      "outputs": []
    },
    {
      "cell_type": "code",
      "metadata": {
        "id": "jvXVmvAn1J2S",
        "colab": {
          "base_uri": "https://localhost:8080/"
        },
        "outputId": "2d5cebd0-a8c0-41e3-dbf2-69e97596a1ff"
      },
      "source": [
        "%%writefile recursividad.cpp\n",
        "#include<iostream>\n",
        "using namespace std;\n",
        "\n",
        "void funcion(int n){\n",
        "    if(n>0){\n",
        "        cout<<n<<\"I- \";\n",
        "        funcion(n-1);\n",
        "        cout<<n<<\"V- \";\n",
        "  }\n",
        "}\n",
        "\n",
        "\n",
        "int suma(int n){\n",
        "    if(n==1)return 1;\n",
        "else return suma(n-1)+n;\n",
        "\n",
        "\n",
        "return suma;\n",
        "}\n",
        "\n",
        "\n",
        "int main(){\n",
        "  //  funcion(7);\n",
        "  cout<<\"La suma es: \"<<suma(5);\n",
        "return 0;\n",
        "}\n"
      ],
      "execution_count": null,
      "outputs": [
        {
          "output_type": "stream",
          "text": [
            "Overwriting recursividad.cpp\n"
          ],
          "name": "stdout"
        }
      ]
    },
    {
      "cell_type": "code",
      "metadata": {
        "id": "qBTiWNkL1Hbb",
        "colab": {
          "base_uri": "https://localhost:8080/"
        },
        "outputId": "b7da1653-0e31-4cd6-9ac3-5a3c9b9d267d"
      },
      "source": [
        "!g++ recursividad.cpp && ./a.out"
      ],
      "execution_count": null,
      "outputs": [
        {
          "output_type": "stream",
          "text": [
            "\u001b[01m\u001b[Krecursividad.cpp:\u001b[m\u001b[K In function ‘\u001b[01m\u001b[Kint suma(int)\u001b[m\u001b[K’:\n",
            "\u001b[01m\u001b[Krecursividad.cpp:17:8:\u001b[m\u001b[K \u001b[01;31m\u001b[Kerror: \u001b[m\u001b[Kinvalid conversion from ‘\u001b[01m\u001b[Kint (*)(int)\u001b[m\u001b[K’ to ‘\u001b[01m\u001b[Kint\u001b[m\u001b[K’ [\u001b[01;31m\u001b[K-fpermissive\u001b[m\u001b[K]\n",
            " return \u001b[01;31m\u001b[Ksuma\u001b[m\u001b[K;\n",
            "        \u001b[01;31m\u001b[K^~~~\u001b[m\u001b[K\n"
          ],
          "name": "stdout"
        }
      ]
    },
    {
      "cell_type": "code",
      "metadata": {
        "colab": {
          "base_uri": "https://localhost:8080/"
        },
        "id": "7x5ciJOD3ANd",
        "outputId": "963afc9f-0295-45cd-890e-f273fec3d2e0"
      },
      "source": [
        "%%writefile factorial.cpp\n",
        "#include<iostream>\n",
        "using std::cout;\n",
        "int funcion(int n){\n",
        "    cout<<\"=\";\n",
        "  if(n==1) return 1; //criterio de parada\n",
        "  \n",
        "else {\n",
        "    cout<<n<<\"*\";\n",
        "    return funcion(n-1)*n;\n",
        "}\n",
        "}\n",
        "\n",
        "int funcion2(int n){\n",
        "    if(n>1)\n",
        "     \n",
        "    return funcion2(n-1)*n;\n",
        "}\n",
        "\n",
        "int main(){\n",
        "    cout<<\"El factorial es: \"<<funcion(5);\n",
        "    return 0;\n",
        "}\n"
      ],
      "execution_count": null,
      "outputs": [
        {
          "output_type": "stream",
          "text": [
            "Overwriting factorial.cpp\n"
          ],
          "name": "stdout"
        }
      ]
    },
    {
      "cell_type": "code",
      "metadata": {
        "colab": {
          "base_uri": "https://localhost:8080/"
        },
        "id": "TksOQy4k9M9D",
        "outputId": "05c052bd-f5d5-443e-eca0-52fc84a21bfd"
      },
      "source": [
        "!g++ factorial.cpp && ./a.out"
      ],
      "execution_count": null,
      "outputs": [
        {
          "output_type": "stream",
          "text": [
            "El factorial es: 120"
          ],
          "name": "stdout"
        }
      ]
    },
    {
      "cell_type": "code",
      "metadata": {
        "id": "mp9E-2EX_Dub"
      },
      "source": [
        "%%writefile vectores.cpp\n"
      ],
      "execution_count": null,
      "outputs": []
    },
    {
      "cell_type": "code",
      "metadata": {
        "id": "dfZftp_h-RWY"
      },
      "source": [
        "!g++ vectores.cpp && ./a.out"
      ],
      "execution_count": null,
      "outputs": []
    },
    {
      "cell_type": "code",
      "metadata": {
        "id": "f-kl2M0jBkdf"
      },
      "source": [
        "%%writefile factorial.cpp\n",
        "#include<iostream>\n",
        "using std::cout;\n",
        "int funcion(int n){\n",
        "    \n",
        "  for(int i=1; i<=n; i++){\n",
        "      funcion(int n);\n",
        "  }\n",
        "}\n",
        "\n",
        "int main(){\n",
        "    cout<<\"El resultado es: \"<<funcion(5);\n",
        "    return 0;\n",
        "}"
      ],
      "execution_count": null,
      "outputs": []
    }
  ]
}