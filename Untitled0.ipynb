{
  "nbformat": 4,
  "nbformat_minor": 0,
  "metadata": {
    "colab": {
      "name": "Untitled0.ipynb",
      "provenance": [],
      "authorship_tag": "ABX9TyNokTrCP72+87CwauRx1wPt",
      "include_colab_link": true
    },
    "kernelspec": {
      "name": "python3",
      "display_name": "Python 3"
    },
    "language_info": {
      "name": "python"
    }
  },
  "cells": [
    {
      "cell_type": "markdown",
      "metadata": {
        "id": "view-in-github",
        "colab_type": "text"
      },
      "source": [
        "<a href=\"https://colab.research.google.com/github/jasminpomasoncco/CC33-Algoritmos/blob/main/Untitled0.ipynb\" target=\"_parent\"><img src=\"https://colab.research.google.com/assets/colab-badge.svg\" alt=\"Open In Colab\"/></a>"
      ]
    },
    {
      "cell_type": "code",
      "metadata": {
        "id": "Q7od0cSQ2CEr"
      },
      "source": [
        "%%writefile programa1.cpp\n",
        "#include <iostream>\n",
        "using namespace std;\n",
        "int main(){\n",
        "cout<<\"hola mundo\";\n",
        "\n",
        "  return 0;\n",
        "}"
      ],
      "execution_count": null,
      "outputs": []
    },
    {
      "cell_type": "code",
      "metadata": {
        "id": "ZYKXXcQA_JRA"
      },
      "source": [
        "%%writefile SinTemplates.cpp\n",
        "\n",
        "\n",
        "\n",
        "#include<iostream>\n",
        "\n",
        "using std::cout;\n",
        "\n",
        "using std::endl;\n",
        "\n",
        "typedef unsigned long long ull;\n",
        "\n",
        "class BigNumber{\n",
        "\n",
        "    ull n1;\n",
        "\n",
        "    ull n2;\n",
        "    public:\n",
        "\n",
        "      BigNumber(ull n1=0,ull n2=0):n1(n1),n2(n2){ }\n",
        "\n",
        "      void print(){cout<<n1<<\" \"<<n2<<endl;}\n",
        "\n",
        "};\n",
        "\n",
        "class BigNumberF{\n",
        "\n",
        "    float n1;\n",
        "\n",
        "    float n2;\n",
        "\n",
        "    public:\n",
        "\n",
        "      BigNumberF(float n1=0,float n2=0):n1(n1),n2(n2){ }\n",
        "\n",
        "      void print(){cout<<n1<<\" \"<<n2<<endl;}\n",
        "\n",
        "};\n",
        "\n",
        "int main(){\n",
        "\n",
        "    BigNumber n1;\n",
        "\n",
        "    BigNumber n2(1);\n",
        "\n",
        "    BigNumber n3(1,2);\n",
        "\n",
        "    n1.print();\n",
        "\n",
        "    n2.print();\n",
        "\n",
        "    n3.print();\n",
        "\n",
        "    return 0;\n",
        "\n",
        "}"
      ],
      "execution_count": null,
      "outputs": []
    },
    {
      "cell_type": "code",
      "metadata": {
        "id": "cni5iCYAAtSL"
      },
      "source": [
        "%%writefile ConTemplates.cpp\n",
        "\n",
        "#include<iostream>\n",
        "\n",
        "using std::cout;\n",
        "\n",
        "using std::endl;\n",
        "\n",
        "typedef unsigned long long ull;\n",
        "\n",
        "template <class Tipo>\n",
        "\n",
        "class BigNumber{\n",
        "\n",
        "    Tipo n1;\n",
        "\n",
        "    Tipo n2;\n",
        "\n",
        "    public:\n",
        "\n",
        "      BigNumber(Tipo n1,Tipo n2):n1(n1),n2(n2){ }\n",
        "\n",
        "      void print(){cout<<n1<<\" \"<<n2<<endl;}\n",
        "\n",
        "};\n",
        "\n",
        "\n",
        "\n",
        "int main(){\n",
        "\n",
        "    BigNumber<short> n1(1,1);\n",
        "\n",
        "    BigNumber<int> n2(2,2);\n",
        "\n",
        "    BigNumber<long> n3(3,3);\n",
        "\n",
        "    BigNumber<double> n4(4.32,4.78);\n",
        "\n",
        "    BigNumber<float> n5(5.2f,5.9f);\n",
        "\n",
        "    BigNumber<ull> n6(6,6);    \n",
        "\n",
        "    n1.print();\n",
        "\n",
        "    n4.print();\n",
        "\n",
        "    n5.print();\n",
        "\n",
        "    return 0;\n",
        "\n",
        "}"
      ],
      "execution_count": null,
      "outputs": []
    },
    {
      "cell_type": "markdown",
      "metadata": {
        "id": "4USo2lw19qxT"
      },
      "source": [
        "creando templates\n"
      ]
    },
    {
      "cell_type": "code",
      "metadata": {
        "colab": {
          "base_uri": "https://localhost:8080/"
        },
        "id": "1SpQ7nVz9iZH",
        "outputId": "4bfb06b2-31f8-4a98-88c9-0f34e6233b03"
      },
      "source": [
        "%%writefile templates.cpp\n",
        "\n",
        "typedef unsigned long long ull;\n",
        "\n",
        "class BigNumber{\n",
        "\n",
        "    ull n1;\n",
        "\n",
        "    ull n2;\n",
        "\n",
        "    public:\n",
        "\n",
        "      BigNumber(ull n1=0,ull n2=0):n1(n1),n2(n2){ }\n",
        "\n",
        "};"
      ],
      "execution_count": null,
      "outputs": [
        {
          "output_type": "stream",
          "text": [
            "Writing templates.cpp\n"
          ],
          "name": "stdout"
        }
      ]
    },
    {
      "cell_type": "code",
      "metadata": {
        "colab": {
          "base_uri": "https://localhost:8080/"
        },
        "id": "Mdg11rfm-Kk9",
        "outputId": "63889ad0-27cb-4666-a3a4-b6317a4a1f6b"
      },
      "source": [
        "!g++ programa1.cpp && ./a.out"
      ],
      "execution_count": null,
      "outputs": [
        {
          "output_type": "stream",
          "text": [
            "\u001b[01m\u001b[Kg++:\u001b[m\u001b[K \u001b[01;31m\u001b[Kerror: \u001b[m\u001b[Kprograma1.cpp: No such file or directory\n",
            "\u001b[01m\u001b[Kg++:\u001b[m\u001b[K \u001b[01;31m\u001b[Kfatal error: \u001b[m\u001b[Kno input files\n",
            "compilation terminated.\n"
          ],
          "name": "stdout"
        }
      ]
    },
    {
      "cell_type": "code",
      "metadata": {
        "id": "z_iMrT0A-XtU"
      },
      "source": [
        "!!g++ -std=c++11 ConTemplates.cpp -o upc"
      ],
      "execution_count": null,
      "outputs": []
    },
    {
      "cell_type": "code",
      "metadata": {
        "id": "wCcIQTRl8rKa"
      },
      "source": [
        "from google.colab import drive\n",
        "drive.mount('/content/drive')"
      ],
      "execution_count": null,
      "outputs": []
    }
  ]
}